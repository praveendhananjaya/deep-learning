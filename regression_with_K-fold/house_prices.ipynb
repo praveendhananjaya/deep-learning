{
  "nbformat": 4,
  "nbformat_minor": 0,
  "metadata": {
    "colab": {
      "name": "house prices.ipynb",
      "provenance": [],
      "collapsed_sections": [],
      "authorship_tag": "ABX9TyNOcXn1n8sqESbRObBK6R9S",
      "include_colab_link": true
    },
    "kernelspec": {
      "name": "python3",
      "display_name": "Python 3"
    },
    "language_info": {
      "name": "python"
    }
  },
  "cells": [
    {
      "cell_type": "markdown",
      "metadata": {
        "id": "view-in-github",
        "colab_type": "text"
      },
      "source": [
        "<a href=\"https://colab.research.google.com/github/praveendhananjaya/deep-learning/blob/main/regression_with_K-fold/house_prices.ipynb\" target=\"_parent\"><img src=\"https://colab.research.google.com/assets/colab-badge.svg\" alt=\"Open In Colab\"/></a>"
      ]
    },
    {
      "cell_type": "markdown",
      "metadata": {
        "id": "X_X-ifKdm2rl"
      },
      "source": [
        "#house prices\n",
        "\n",
        "*Regression* machine learning\n",
        "\n",
        "###Boston Housing Price dataset\n",
        "\n"
      ]
    },
    {
      "cell_type": "code",
      "metadata": {
        "colab": {
          "base_uri": "https://localhost:8080/"
        },
        "id": "QtzeVLmhmwoA",
        "outputId": "0979962b-1b8c-43da-eed4-7d92ecc25136"
      },
      "source": [
        "from keras.datasets import boston_housing\n",
        "\n",
        "(train_data, train_targets), (test_data, test_targets) = boston_housing.load_data()\n",
        "\n",
        "print(train_data.shape)\n",
        "print(test_data.shape)"
      ],
      "execution_count": 2,
      "outputs": [
        {
          "output_type": "stream",
          "text": [
            "Downloading data from https://storage.googleapis.com/tensorflow/tf-keras-datasets/boston_housing.npz\n",
            "57344/57026 [==============================] - 0s 0us/step\n",
            "65536/57026 [==================================] - 0s 0us/step\n",
            "(404, 13)\n",
            "(102, 13)\n"
          ],
          "name": "stdout"
        }
      ]
    },
    {
      "cell_type": "markdown",
      "metadata": {
        "id": "FNeA8R3FvJrA"
      },
      "source": [
        "404 training samples and 102 test samples, each with 13\n",
        "numerical features, such as per capita crime rate, average number of rooms per dwell-\n",
        "ing, accessibility to highways, and so on\n",
        "\n",
        "The targets are the median values of owner-occupied homes, in thousands of\n",
        "dollars:"
      ]
    },
    {
      "cell_type": "code",
      "metadata": {
        "colab": {
          "base_uri": "https://localhost:8080/"
        },
        "id": "i6jpRoXhvI4j",
        "outputId": "6a3c9f97-8749-4344-eec2-b37b254e59f5"
      },
      "source": [
        "print(train_targets)"
      ],
      "execution_count": 3,
      "outputs": [
        {
          "output_type": "stream",
          "text": [
            "[15.2 42.3 50.  21.1 17.7 18.5 11.3 15.6 15.6 14.4 12.1 17.9 23.1 19.9\n",
            " 15.7  8.8 50.  22.5 24.1 27.5 10.9 30.8 32.9 24.  18.5 13.3 22.9 34.7\n",
            " 16.6 17.5 22.3 16.1 14.9 23.1 34.9 25.  13.9 13.1 20.4 20.  15.2 24.7\n",
            " 22.2 16.7 12.7 15.6 18.4 21.  30.1 15.1 18.7  9.6 31.5 24.8 19.1 22.\n",
            " 14.5 11.  32.  29.4 20.3 24.4 14.6 19.5 14.1 14.3 15.6 10.5  6.3 19.3\n",
            " 19.3 13.4 36.4 17.8 13.5 16.5  8.3 14.3 16.  13.4 28.6 43.5 20.2 22.\n",
            " 23.  20.7 12.5 48.5 14.6 13.4 23.7 50.  21.7 39.8 38.7 22.2 34.9 22.5\n",
            " 31.1 28.7 46.  41.7 21.  26.6 15.  24.4 13.3 21.2 11.7 21.7 19.4 50.\n",
            " 22.8 19.7 24.7 36.2 14.2 18.9 18.3 20.6 24.6 18.2  8.7 44.  10.4 13.2\n",
            " 21.2 37.  30.7 22.9 20.  19.3 31.7 32.  23.1 18.8 10.9 50.  19.6  5.\n",
            " 14.4 19.8 13.8 19.6 23.9 24.5 25.  19.9 17.2 24.6 13.5 26.6 21.4 11.9\n",
            " 22.6 19.6  8.5 23.7 23.1 22.4 20.5 23.6 18.4 35.2 23.1 27.9 20.6 23.7\n",
            " 28.  13.6 27.1 23.6 20.6 18.2 21.7 17.1  8.4 25.3 13.8 22.2 18.4 20.7\n",
            " 31.6 30.5 20.3  8.8 19.2 19.4 23.1 23.  14.8 48.8 22.6 33.4 21.1 13.6\n",
            " 32.2 13.1 23.4 18.9 23.9 11.8 23.3 22.8 19.6 16.7 13.4 22.2 20.4 21.8\n",
            " 26.4 14.9 24.1 23.8 12.3 29.1 21.  19.5 23.3 23.8 17.8 11.5 21.7 19.9\n",
            " 25.  33.4 28.5 21.4 24.3 27.5 33.1 16.2 23.3 48.3 22.9 22.8 13.1 12.7\n",
            " 22.6 15.  15.3 10.5 24.  18.5 21.7 19.5 33.2 23.2  5.  19.1 12.7 22.3\n",
            " 10.2 13.9 16.3 17.  20.1 29.9 17.2 37.3 45.4 17.8 23.2 29.  22.  18.\n",
            " 17.4 34.6 20.1 25.  15.6 24.8 28.2 21.2 21.4 23.8 31.  26.2 17.4 37.9\n",
            " 17.5 20.   8.3 23.9  8.4 13.8  7.2 11.7 17.1 21.6 50.  16.1 20.4 20.6\n",
            " 21.4 20.6 36.5  8.5 24.8 10.8 21.9 17.3 18.9 36.2 14.9 18.2 33.3 21.8\n",
            " 19.7 31.6 24.8 19.4 22.8  7.5 44.8 16.8 18.7 50.  50.  19.5 20.1 50.\n",
            " 17.2 20.8 19.3 41.3 20.4 20.5 13.8 16.5 23.9 20.6 31.5 23.3 16.8 14.\n",
            " 33.8 36.1 12.8 18.3 18.7 19.1 29.  30.1 50.  50.  22.  11.9 37.6 50.\n",
            " 22.7 20.8 23.5 27.9 50.  19.3 23.9 22.6 15.2 21.7 19.2 43.8 20.3 33.2\n",
            " 19.9 22.5 32.7 22.  17.1 19.  15.  16.1 25.1 23.7 28.7 37.2 22.6 16.4\n",
            " 25.  29.8 22.1 17.4 18.1 30.3 17.5 24.7 12.6 26.5 28.7 13.3 10.4 24.4\n",
            " 23.  20.  17.8  7.  11.8 24.4 13.8 19.4 25.2 19.4 19.4 29.1]\n"
          ],
          "name": "stdout"
        }
      ]
    },
    {
      "cell_type": "markdown",
      "metadata": {
        "id": "T51e4c8Tvei0"
      },
      "source": [
        "##Preparing the data"
      ]
    },
    {
      "cell_type": "markdown",
      "metadata": {
        "id": "YKlRWR-J5Jfk"
      },
      "source": [
        "It would be problematic to feed into a neural network values that all take wildly differ-\n",
        "ent ranges. The network might be able to automatically adapt to such heterogeneous\n",
        "data, but it would definitely make learning more difficult. A widespread best practice\n",
        "to deal with such data is to do feature-wise normalization: for each feature in the input\n",
        "data (a column in the input data matrix), you subtract the mean of the feature and\n",
        "divide by the standard deviation, so that the feature is centered around 0 and has a\n",
        "unit standard deviation. This is easily done in Numpy."
      ]
    },
    {
      "cell_type": "code",
      "metadata": {
        "id": "E8bqIAk1vqI8"
      },
      "source": [
        "mean = train_data.mean(axis=0)\n",
        "train_data -= mean\n",
        "std = train_data.std(axis=0)\n",
        "train_data /= std\n",
        "\n",
        "test_data -= mean\n",
        "test_data /= std"
      ],
      "execution_count": 4,
      "outputs": []
    },
    {
      "cell_type": "markdown",
      "metadata": {
        "id": "gYJHH28M6nJI"
      },
      "source": [
        "##Building your network\n",
        "\n",
        "two hidden layers, each with 64 units. In general, the less training data you have, the worse overfitting will be, and using a small network is one way to mitigate overfitting.\n"
      ]
    },
    {
      "cell_type": "code",
      "metadata": {
        "id": "06RnHo3Y7A7x"
      },
      "source": [
        "from keras import models\n",
        "from keras import layers\n",
        "\n",
        "def build_model():\n",
        "  model = models.Sequential()\n",
        "  model.add(layers.Dense(64,activation = 'relu',input_shape=(train_data.shape[1],)))\n",
        "  model.add(layers.Dense(64,activation = 'relu' ))\n",
        "  model.add(layers.Dense(1))\n",
        "  model.compile(optimizer='rmsprop',loss='mse',metrics=['mae'])\n",
        "  return model\n",
        "\n",
        "  "
      ],
      "execution_count": 5,
      "outputs": []
    },
    {
      "cell_type": "markdown",
      "metadata": {
        "id": "cYns9NdN0WnU"
      },
      "source": [
        "The network ends with a single unit and no activation (it will be a linear layer).This is a typical setup for scalar regression (a regression where you’re trying to predict a single continuous value).Applying an activation function would constrain the range the output can take; (for instance, if applied a sigmoid activation function to the last layer,the network could only learn to predict values between 0 and 1.)\n",
        "\n",
        "\n",
        "**mse** loss function— *mean squared error,*\n",
        "square of the difference between the predictions and the targets\n",
        "\n",
        "\n",
        "\n",
        "***mean absolute error ( MAE )***. It’s the absolute value of the difference between the predictions and the targets. For instance, an MAE of 0.5 on this problem would mean your predictions are off by $500 on average.\n",
        "\n"
      ]
    },
    {
      "cell_type": "markdown",
      "metadata": {
        "id": "1Or_ECRh37MP"
      },
      "source": [
        "## Validating your approach using K-fold validation\n",
        "\n",
        "The best practice in such situations is to use K -fold cross-validation (see figure 3.11).\n",
        "It consists of splitting the available data into K partitions (typically K = 4 or 5), instanti-\n",
        "ating K identical models, and training each one on K – 1 partitions while evaluating on\n",
        "the remaining partition. The validation score for the model used is then the average of\n",
        "the K validation scores obtained. In terms of code, this is straightforward.![Screenshot from 2021-05-15 23-47-18.png](data:image/png;base64,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)"
      ]
    },
    {
      "cell_type": "code",
      "metadata": {
        "id": "TeDg-OT234rS"
      },
      "source": [
        "import numpy as np\n",
        "k = 4\n",
        "num_val_samples = len(train_data) // k\n",
        "num_epochs = 100\n",
        "all_scores = []"
      ],
      "execution_count": 6,
      "outputs": []
    },
    {
      "cell_type": "code",
      "metadata": {
        "id": "fEq7Qz-0Q9u1",
        "colab": {
          "base_uri": "https://localhost:8080/"
        },
        "outputId": "cf46c49a-7fa2-4530-90f6-cd4931859ad4"
      },
      "source": [
        "for i in range(k):\n",
        "    print('processing fold #', i)\n",
        "    val_data = train_data[i * num_val_samples: (i + 1) * num_val_samples]\n",
        "    val_targets = train_targets[i * num_val_samples: (i + 1) * num_val_samples]\n",
        "\n",
        "    partial_train_data = np.concatenate(\n",
        "        [train_data[:i*num_val_samples],train_data[(i+1)*num_val_samples:]],axis=0\n",
        "    )\n",
        "    partial_train_targets = np.concatenate(\n",
        "    [train_targets[:i * num_val_samples],\n",
        "    train_targets[(i + 1) * num_val_samples:]],\n",
        "    axis=0)\n",
        "\n",
        "    model = build_model()\n",
        "    model.fit(partial_train_data, partial_train_targets,\n",
        "        epochs=num_epochs, batch_size=1, verbose=0)\n",
        "    \n",
        "    val_mse, val_mae = model.evaluate(val_data, val_targets, verbose=0)\n",
        "    all_scores.append(val_mae)\n",
        "\n",
        "\n",
        "print(all_scores)\n",
        "print(np.mean(all_scores))  \n",
        "\n"
      ],
      "execution_count": 7,
      "outputs": [
        {
          "output_type": "stream",
          "text": [
            "processing fold # 0\n",
            "processing fold # 1\n",
            "processing fold # 2\n",
            "processing fold # 3\n",
            "[1.9579027891159058, 2.668773889541626, 2.9047539234161377, 2.549445152282715]\n",
            "2.520218938589096\n"
          ],
          "name": "stdout"
        }
      ]
    },
    {
      "cell_type": "code",
      "metadata": {
        "colab": {
          "base_uri": "https://localhost:8080/"
        },
        "id": "Yvmbm-1jeeCF",
        "outputId": "45e73d1e-6333-436f-c334-d92416532e63"
      },
      "source": [
        "print(all_scores)\n",
        "print(np.mean(all_scores))  "
      ],
      "execution_count": 8,
      "outputs": [
        {
          "output_type": "stream",
          "text": [
            "[1.9579027891159058, 2.668773889541626, 2.9047539234161377, 2.549445152282715]\n",
            "2.520218938589096\n"
          ],
          "name": "stdout"
        }
      ]
    },
    {
      "cell_type": "markdown",
      "metadata": {
        "id": "UgUt51cpfE5q"
      },
      "source": [
        "500 epochs"
      ]
    },
    {
      "cell_type": "code",
      "metadata": {
        "colab": {
          "base_uri": "https://localhost:8080/"
        },
        "id": "jDWI5F23fEby",
        "outputId": "381c8e38-dcd3-443f-c9cf-1d9a3f41d1c1"
      },
      "source": [
        "num_epochs = 200\n",
        "all_mae_histories = []\n",
        "\n",
        "for i in range(k):\n",
        "    print('processing fold #', i)\n",
        "    val_data = train_data[i * num_val_samples: (i + 1) * num_val_samples]\n",
        "    val_targets = train_targets[i * num_val_samples: (i + 1) * num_val_samples]\n",
        "\n",
        "    partial_train_data = np.concatenate(\n",
        "        [train_data[:i * num_val_samples],\n",
        "        train_data[(i + 1) * num_val_samples:]],\n",
        "        axis=0)\n",
        "    partial_train_targets = np.concatenate(\n",
        "        [train_targets[:i * num_val_samples],\n",
        "        train_targets[(i + 1) * num_val_samples:]],\n",
        "        axis=0)\n",
        "\n",
        "    model = build_model()\n",
        "    history = model.fit(partial_train_data, partial_train_targets,\n",
        "        validation_data=(val_data, val_targets),\n",
        "        epochs=num_epochs, batch_size=1, verbose=0)\n",
        "    \n",
        "    print(history.history.keys())\n",
        "    mae_history = history.history['val_mae']\n",
        "    all_mae_histories.append(mae_history)"
      ],
      "execution_count": 9,
      "outputs": [
        {
          "output_type": "stream",
          "text": [
            "processing fold # 0\n",
            "dict_keys(['loss', 'mae', 'val_loss', 'val_mae'])\n",
            "processing fold # 1\n",
            "dict_keys(['loss', 'mae', 'val_loss', 'val_mae'])\n",
            "processing fold # 2\n",
            "dict_keys(['loss', 'mae', 'val_loss', 'val_mae'])\n",
            "processing fold # 3\n",
            "dict_keys(['loss', 'mae', 'val_loss', 'val_mae'])\n"
          ],
          "name": "stdout"
        }
      ]
    },
    {
      "cell_type": "code",
      "metadata": {
        "colab": {
          "base_uri": "https://localhost:8080/",
          "height": 335
        },
        "id": "MNWuZkmlfWsA",
        "outputId": "0085d272-9c7d-44bd-e81a-5476a3bdbcfa"
      },
      "source": [
        "print(all_mae_histories)\n",
        "print(np.mean(all_mae_histories))\n",
        "\n",
        "import matplotlib.pyplot as plt\n",
        "\n",
        "average_mae_history = [np.mean([x[i] for x in all_mae_histories]) for i in range(num_epochs)]\n",
        "\n",
        "plt.plot(range(1, len(average_mae_history) + 1), average_mae_history)\n",
        "plt.xlabel('Epochs')\n",
        "plt.ylabel('Validation MAE')\n",
        "plt.show()\n",
        "  "
      ],
      "execution_count": 10,
      "outputs": [
        {
          "output_type": "stream",
          "text": [
            "[[3.784846305847168, 2.9443020820617676, 2.6846230030059814, 2.490752696990967, 2.8227436542510986, 2.250558376312256, 2.2025015354156494, 2.127606153488159, 2.2686612606048584, 2.205557107925415, 2.1839327812194824, 2.0268959999084473, 1.9381155967712402, 2.231043815612793, 2.0381925106048584, 1.9851648807525635, 2.0862553119659424, 1.89030921459198, 2.306523084640503, 2.334613084793091, 2.5674238204956055, 2.1938540935516357, 2.262704372406006, 1.9670511484146118, 1.8739545345306396, 2.025463104248047, 2.1795709133148193, 2.0730886459350586, 2.2142276763916016, 1.8992207050323486, 2.084576368331909, 2.1018052101135254, 2.4065115451812744, 1.9047625064849854, 2.0848679542541504, 1.9742697477340698, 1.8611066341400146, 1.9093255996704102, 1.8997882604599, 1.9849332571029663, 1.8481812477111816, 1.889351725578308, 2.0295157432556152, 2.043156385421753, 2.0154871940612793, 1.9527561664581299, 2.0101709365844727, 1.9547696113586426, 2.3315985202789307, 1.9158159494400024, 2.0257372856140137, 2.0797269344329834, 2.242114782333374, 1.8268580436706543, 2.0671489238739014, 1.9491621255874634, 2.0994880199432373, 2.054063320159912, 2.1293253898620605, 1.8624663352966309, 1.8179044723510742, 2.173191547393799, 1.841378092765808, 1.9329767227172852, 1.967555284500122, 1.8315807580947876, 2.0799615383148193, 1.8530043363571167, 1.8485164642333984, 1.988817572593689, 1.8228431940078735, 1.984806776046753, 1.918607473373413, 2.0847787857055664, 2.063979148864746, 2.0759642124176025, 1.9700827598571777, 2.0592875480651855, 1.9950376749038696, 2.1494343280792236, 1.8973292112350464, 1.9076792001724243, 2.4813175201416016, 2.2849366664886475, 1.992983341217041, 2.2412517070770264, 1.9163302183151245, 2.1267855167388916, 2.173551321029663, 2.4126882553100586, 2.659358024597168, 2.3403749465942383, 2.268359661102295, 2.09010910987854, 2.114306688308716, 1.813284993171692, 1.8651992082595825, 1.9453887939453125, 2.2644474506378174, 1.9935352802276611, 1.9103606939315796, 2.014089822769165, 2.308307647705078, 2.4693307876586914, 1.9785146713256836, 1.9057493209838867, 2.0044782161712646, 2.1590077877044678, 1.8652327060699463, 1.95260751247406, 1.9488673210144043, 1.9807976484298706, 1.9363040924072266, 2.5693352222442627, 1.9360216856002808, 1.8243547677993774, 2.056577205657959, 2.660015106201172, 2.019192934036255, 2.058811664581299, 1.9700210094451904, 2.0214805603027344, 1.9080952405929565, 2.0797390937805176, 2.086538553237915, 2.049696683883667, 2.166821241378784, 2.115856409072876, 1.8691593408584595, 2.0957846641540527, 1.943621039390564, 2.0619828701019287, 2.1131415367126465, 2.2446911334991455, 2.097395896911621, 2.0775723457336426, 2.3207271099090576, 2.19897723197937, 2.047947645187378, 1.9457755088806152, 2.6549320220947266, 2.4285714626312256, 2.003750801086426, 2.4453628063201904, 2.5769882202148438, 1.8548113107681274, 2.020740270614624, 2.0807371139526367, 2.0886406898498535, 1.9208543300628662, 2.1191463470458984, 2.000389814376831, 2.0670416355133057, 2.6098737716674805, 2.150036334991455, 2.012876033782959, 2.066964864730835, 2.0595734119415283, 2.261687994003296, 1.9593616724014282, 2.0849454402923584, 2.142561912536621, 1.9692286252975464, 1.9696649312973022, 2.6124277114868164, 2.5739994049072266, 2.2766525745391846, 2.3179335594177246, 2.415595769882202, 2.0532329082489014, 2.202017068862915, 2.617171287536621, 2.186617612838745, 1.9789625406265259, 1.999047875404358, 2.0556154251098633, 2.249980926513672, 2.218770742416382, 2.3529462814331055, 2.0129587650299072, 2.132904291152954, 2.2300865650177, 2.1556575298309326, 2.210761308670044, 2.299116849899292, 2.1580986976623535, 2.123572826385498, 2.237241268157959, 2.1966300010681152, 2.161334991455078, 2.4105844497680664, 2.1652286052703857, 1.993145227432251, 2.104599714279175, 2.1958730220794678, 2.063297748565674, 2.1053662300109863, 2.187175989151001, 2.2336604595184326, 2.117658853530884], [4.064977169036865, 3.4597108364105225, 2.839085340499878, 3.012648820877075, 2.751115322113037, 3.19203782081604, 2.923902988433838, 2.590757131576538, 2.8304271697998047, 3.0030994415283203, 2.563955783843994, 2.6201512813568115, 2.618706703186035, 2.690342426300049, 2.6514461040496826, 2.6062047481536865, 2.492196798324585, 2.6815884113311768, 2.473529577255249, 2.43139910697937, 2.566114902496338, 2.5415799617767334, 2.7094805240631104, 2.718982458114624, 2.4353103637695312, 2.4793055057525635, 2.3773608207702637, 2.35750675201416, 2.398270845413208, 2.429680585861206, 2.5143213272094727, 2.3063418865203857, 2.389507293701172, 2.389556884765625, 2.286344528198242, 2.5684359073638916, 2.415475845336914, 2.86490797996521, 2.8637001514434814, 2.486984968185425, 2.485037326812744, 2.4370367527008057, 2.230689764022827, 2.430461883544922, 2.6339271068573, 2.544517993927002, 2.3665947914123535, 2.401954412460327, 2.3125245571136475, 2.2130277156829834, 2.353180408477783, 2.5164597034454346, 2.28070330619812, 2.5408425331115723, 2.7262537479400635, 2.2982053756713867, 2.2798781394958496, 2.3165879249572754, 2.5592663288116455, 2.9803824424743652, 2.4400181770324707, 2.3707330226898193, 2.6033987998962402, 2.6453464031219482, 2.293813943862915, 2.399533748626709, 2.3424012660980225, 2.3860557079315186, 2.644785165786743, 2.9101901054382324, 2.6080527305603027, 2.706935405731201, 2.361865282058716, 2.280745267868042, 2.2379889488220215, 2.725801706314087, 2.6086676120758057, 2.577146291732788, 2.718313694000244, 2.5109283924102783, 2.8933727741241455, 2.3610758781433105, 2.7396931648254395, 2.7106921672821045, 2.739607334136963, 2.5800702571868896, 3.131279468536377, 2.382510185241699, 2.4848427772521973, 2.97316837310791, 2.4404115676879883, 2.4269816875457764, 2.5036144256591797, 2.725762367248535, 2.597884178161621, 2.422917366027832, 2.75406551361084, 2.9392752647399902, 2.4971320629119873, 2.6128225326538086, 2.5159337520599365, 2.615976572036743, 2.643664598464966, 3.0367038249969482, 2.825406789779663, 2.549290180206299, 2.367307186126709, 2.305393695831299, 2.7953546047210693, 2.661309003829956, 2.7616429328918457, 2.7814955711364746, 2.9202497005462646, 2.9969029426574707, 3.9053521156311035, 2.4244890213012695, 2.824111223220825, 2.476827383041382, 2.4986634254455566, 2.424889087677002, 2.5587596893310547, 2.7284903526306152, 2.9541492462158203, 2.699449062347412, 3.367034673690796, 3.266514778137207, 2.870105028152466, 2.5728883743286133, 2.482170820236206, 2.978179693222046, 2.4588370323181152, 2.845341444015503, 2.7989139556884766, 2.711890697479248, 2.5414161682128906, 3.0709304809570312, 2.764460563659668, 2.4431097507476807, 2.5222933292388916, 2.848797559738159, 2.7924811840057373, 2.792752981185913, 2.8651177883148193, 2.9211249351501465, 2.5993289947509766, 2.7832469940185547, 2.5768730640411377, 3.0778145790100098, 2.728276014328003, 2.522404432296753, 2.7294108867645264, 3.2431817054748535, 3.0989084243774414, 2.7432656288146973, 2.963522434234619, 2.9712636470794678, 2.8396365642547607, 3.0627427101135254, 2.939528465270996, 3.108549118041992, 2.9194672107696533, 2.7634284496307373, 2.9592974185943604, 3.2254843711853027, 2.664816379547119, 2.8263802528381348, 2.9041337966918945, 2.560466766357422, 2.8593616485595703, 2.8672733306884766, 3.0576443672180176, 2.7029383182525635, 2.7444751262664795, 2.6877505779266357, 2.692434787750244, 2.9419338703155518, 3.03147292137146, 3.1073901653289795, 3.1068317890167236, 3.09152889251709, 2.956008195877075, 2.897385358810425, 3.3672759532928467, 3.120675802230835, 2.8940556049346924, 2.740593671798706, 3.0476417541503906, 2.96000599861145, 3.259206533432007, 3.089459180831909, 2.8505618572235107, 2.8596272468566895, 3.0624194145202637, 2.6144533157348633, 3.0571699142456055, 2.930668354034424, 3.44738507270813, 3.2660880088806152, 2.9673521518707275, 3.146353006362915], [4.139686107635498, 3.172135829925537, 2.976393222808838, 2.6737520694732666, 2.6459996700286865, 2.685359001159668, 2.74735164642334, 2.6653215885162354, 2.7246971130371094, 2.754854202270508, 2.567443609237671, 2.569187641143799, 2.4120142459869385, 2.7842907905578613, 2.6258749961853027, 2.6967239379882812, 2.614597797393799, 2.616502285003662, 2.5132713317871094, 2.5293402671813965, 2.6445279121398926, 2.7056806087493896, 2.441159725189209, 2.5362088680267334, 2.523256301879883, 2.529406785964966, 2.5311474800109863, 2.4751265048980713, 2.6019885540008545, 2.460688591003418, 2.461193084716797, 2.407881736755371, 2.6020658016204834, 2.3722684383392334, 2.417628765106201, 2.406564712524414, 2.4687159061431885, 2.5778391361236572, 2.4560468196868896, 2.4826102256774902, 2.4727509021759033, 2.418647050857544, 2.3539369106292725, 2.5284171104431152, 2.3653392791748047, 2.460973024368286, 2.481177568435669, 2.4088709354400635, 2.6489627361297607, 2.459857940673828, 2.46038556098938, 2.54682993888855, 2.6253178119659424, 2.4009499549865723, 2.5515918731689453, 2.448223352432251, 2.518505811691284, 2.583746910095215, 2.420042037963867, 2.519937753677368, 2.5347423553466797, 2.423722982406616, 2.5474841594696045, 2.400744915008545, 2.5645172595977783, 2.6578710079193115, 2.545684576034546, 2.716679334640503, 2.3577113151550293, 2.455404043197632, 2.467034101486206, 2.603085994720459, 2.371001958847046, 2.8109793663024902, 2.657641649246216, 2.9780609607696533, 2.7307612895965576, 2.417302370071411, 2.4593989849090576, 2.80368971824646, 2.577125072479248, 2.5312368869781494, 2.4238271713256836, 2.609697103500366, 2.6476681232452393, 2.439899444580078, 2.5766913890838623, 2.5479280948638916, 2.57031512260437, 2.474682569503784, 2.5127956867218018, 2.483696460723877, 2.62957763671875, 2.555548906326294, 2.5137383937835693, 2.8372702598571777, 2.4344594478607178, 2.415201425552368, 2.4772415161132812, 2.341522216796875, 2.4759654998779297, 2.380399465560913, 2.6178083419799805, 2.5308678150177, 2.8236048221588135, 2.4219870567321777, 2.583545446395874, 2.537787914276123, 2.3596696853637695, 2.5146679878234863, 2.5912792682647705, 2.441513776779175, 2.4317996501922607, 2.5190789699554443, 2.557654619216919, 2.4176666736602783, 2.551846742630005, 2.36556077003479, 2.4596455097198486, 2.318455457687378, 2.4557735919952393, 2.5606002807617188, 2.6368913650512695, 2.4641199111938477, 2.343679666519165, 2.429692268371582, 2.4824576377868652, 2.38434100151062, 2.522045373916626, 2.456151008605957, 2.35829758644104, 2.5894594192504883, 2.5078372955322266, 2.418602228164673, 2.5170464515686035, 2.4494688510894775, 2.5450477600097656, 2.31307315826416, 2.6920156478881836, 2.5981369018554688, 2.4634387493133545, 2.4104275703430176, 2.823632001876831, 2.465738534927368, 2.5336318016052246, 2.6122682094573975, 2.4984002113342285, 2.5567166805267334, 2.559079647064209, 2.4661359786987305, 2.571661949157715, 2.438852548599243, 2.4451589584350586, 2.593533754348755, 2.391057014465332, 2.7523293495178223, 2.486268997192383, 2.679222822189331, 2.5553202629089355, 2.5029118061065674, 2.547107458114624, 2.4687604904174805, 2.681668519973755, 2.48036527633667, 2.3917346000671387, 2.5488078594207764, 2.485424041748047, 2.474532127380371, 2.498155117034912, 2.465785026550293, 2.7748923301696777, 2.6599061489105225, 2.733184814453125, 2.683558702468872, 2.771392583847046, 2.663257360458374, 2.620163679122925, 2.8112175464630127, 2.7004783153533936, 2.7586452960968018, 2.794065237045288, 2.6923017501831055, 2.911421775817871, 2.5449793338775635, 2.8758602142333984, 2.5198662281036377, 2.5488736629486084, 2.7119698524475098, 2.6075098514556885, 2.6918413639068604, 2.630927324295044, 2.5267484188079834, 2.6514360904693604, 2.631849765777588, 2.535134792327881, 2.6647696495056152, 2.5575249195098877, 2.5986406803131104, 2.772996664047241, 2.707813262939453], [5.694103717803955, 4.103834629058838, 3.596446990966797, 3.1824734210968018, 3.004283905029297, 2.8787529468536377, 2.966440439224243, 2.7262868881225586, 2.7898170948028564, 2.7309346199035645, 2.691737651824951, 2.6789135932922363, 2.746070146560669, 2.6404201984405518, 2.6771416664123535, 2.6457440853118896, 2.8467047214508057, 2.5056917667388916, 3.1424155235290527, 2.6050198078155518, 3.140716791152954, 2.6196038722991943, 2.5466196537017822, 2.5929415225982666, 2.712313175201416, 2.5945422649383545, 2.5114617347717285, 2.8229756355285645, 2.466212272644043, 2.869401454925537, 2.69046950340271, 2.7160391807556152, 2.497617721557617, 2.672043800354004, 2.511125326156616, 3.0833547115325928, 2.538863182067871, 2.4308629035949707, 2.506160259246826, 2.7032415866851807, 2.683401584625244, 2.51507830619812, 2.5843346118927, 2.4545295238494873, 2.5243797302246094, 2.420123338699341, 2.4727683067321777, 2.457674741744995, 2.5635387897491455, 2.4946722984313965, 2.5395913124084473, 2.4590954780578613, 2.688420057296753, 2.3833494186401367, 2.415602684020996, 2.337415933609009, 2.5145866870880127, 2.4480392932891846, 2.459620475769043, 2.487474203109741, 2.4202280044555664, 2.44328236579895, 2.477976083755493, 2.6460914611816406, 2.4513297080993652, 2.5019948482513428, 2.525144100189209, 2.3896663188934326, 2.5242011547088623, 2.4857308864593506, 3.0653300285339355, 2.5404908657073975, 2.6148247718811035, 2.3489227294921875, 2.717437505722046, 2.535886526107788, 2.565758228302002, 2.4882309436798096, 2.458252191543579, 2.463829755783081, 2.6039958000183105, 2.5746512413024902, 2.385599136352539, 2.5277504920959473, 2.4530386924743652, 2.484781265258789, 2.6153409481048584, 2.4555087089538574, 2.5067520141601562, 2.700721263885498, 2.337257146835327, 2.4481122493743896, 2.4671459197998047, 2.687338352203369, 2.4854276180267334, 2.4858028888702393, 2.4617109298706055, 2.3214588165283203, 2.4517035484313965, 2.378988027572632, 2.4406275749206543, 2.4467809200286865, 2.6981394290924072, 2.6280994415283203, 2.5994906425476074, 2.6102585792541504, 2.449084520339966, 2.5557069778442383, 2.6040799617767334, 2.8665168285369873, 2.4600470066070557, 2.826845645904541, 2.4282259941101074, 2.3337059020996094, 2.7858636379241943, 2.470642328262329, 2.5113558769226074, 2.6481399536132812, 2.419981002807617, 2.4568142890930176, 2.4150784015655518, 2.5218381881713867, 2.4012742042541504, 2.5703046321868896, 2.7642693519592285, 2.568354845046997, 2.450737953186035, 2.4611141681671143, 2.6527042388916016, 2.462083339691162, 2.460415840148926, 2.457958221435547, 2.399315118789673, 2.4150052070617676, 2.4606683254241943, 2.7423806190490723, 2.5250399112701416, 2.389676332473755, 2.5366456508636475, 2.4248287677764893, 2.4626593589782715, 2.5720629692077637, 2.5280725955963135, 2.5702269077301025, 2.513657569885254, 2.413057804107666, 2.7614338397979736, 2.5140137672424316, 2.5861213207244873, 2.4359772205352783, 2.4925432205200195, 2.55151629447937, 2.7702999114990234, 2.526581048965454, 2.5263864994049072, 2.5626981258392334, 2.5168066024780273, 2.4298038482666016, 2.662348747253418, 2.562641143798828, 2.605358123779297, 2.3969674110412598, 2.45363450050354, 2.626347064971924, 2.68754506111145, 2.469511032104492, 2.6554863452911377, 2.426908493041992, 2.7317967414855957, 2.5871195793151855, 2.3570170402526855, 2.565319061279297, 2.453153610229492, 2.507906913757324, 2.4001426696777344, 2.5614781379699707, 2.485203742980957, 2.41448712348938, 2.4488534927368164, 2.556666612625122, 2.7502946853637695, 2.594667434692383, 2.752668619155884, 2.4466075897216797, 2.451237916946411, 2.392399311065674, 2.477689504623413, 2.5499942302703857, 2.4881091117858887, 2.5596163272857666, 2.421830177307129, 2.538648843765259, 2.416499376296997, 2.5606188774108887, 2.454998731613159, 2.3705008029937744, 2.4641504287719727, 2.5457751750946045, 2.5032410621643066, 2.591381072998047]]\n",
            "2.499369901865721\n"
          ],
          "name": "stdout"
        },
        {
          "output_type": "display_data",
          "data": {
            "image/png": "[encoded data removed]",
            "text/plain": [
              "<Figure size 432x288 with 1 Axes>"
            ]
          },
          "metadata": {
            "tags": [],
            "needs_background": "light"
          }
        }
      ]
    },
    {
      "cell_type": "markdown",
      "metadata": {
        "id": "0me19Oclm9w2"
      },
      "source": [
        "It may be a little difficult to see the plot, due to scaling issues and relatively high vari-\n",
        "ance. Let’s do the following:\n",
        "\n",
        "\n",
        "\n",
        "*   Omit the first 10 data points, which are on a different scale than the rest of the curve.\n",
        "*    Replace each point with an exponential moving average of the previous points,\n",
        "to obtain a smooth curve.\n",
        "\n",
        "\n",
        "\n",
        "\n"
      ]
    },
    {
      "cell_type": "code",
      "metadata": {
        "colab": {
          "base_uri": "https://localhost:8080/",
          "height": 279
        },
        "id": "SSrsgkuUm9Jt",
        "outputId": "3ecd0d24-e456-4c94-9d58-261a74237315"
      },
      "source": [
        "def smooth_curve(points, factor=0.9):\n",
        "  smoothed_points = []\n",
        "  for point in points:\n",
        "    if smoothed_points:\n",
        "      previous = smoothed_points[-1]\n",
        "      smoothed_points.append(previous * factor + point * (1 - factor))\n",
        "    else:\n",
        "      smoothed_points.append(point)\n",
        "  return smoothed_points\n",
        "\n",
        "smooth_mae_history = smooth_curve(average_mae_history[10:])\n",
        "plt.plot(range(1, len(smooth_mae_history) + 1), smooth_mae_history)\n",
        "plt.xlabel('Epochs')\n",
        "plt.ylabel('Validation MAE')\n",
        "plt.show()"
      ],
      "execution_count": 11,
      "outputs": [
        {
          "output_type": "display_data",
          "data": {
            "image/png": "[encoded data removed]",
            "text/plain": [
              "<Figure size 432x288 with 1 Axes>"
            ]
          },
          "metadata": {
            "tags": [],
            "needs_background": "light"
          }
        }
      ]
    },
    {
      "cell_type": "markdown",
      "metadata": {
        "id": "q6GtfczauLkc"
      },
      "source": [
        "According to this plot, validation MAE stops improving significantly after 80 epochs.\n",
        "Past that point, you start overfitting."
      ]
    },
    {
      "cell_type": "code",
      "metadata": {
        "colab": {
          "base_uri": "https://localhost:8080/"
        },
        "id": "Kb0CsAVXubsn",
        "outputId": "4d0bbd8a-9ea7-4fd7-be85-b04213bca964"
      },
      "source": [
        "model = build_model()\n",
        "model.fit(train_data, train_targets,\n",
        "  epochs=80, batch_size=16, verbose=0)\n",
        "test_mse_score, test_mae_score = model.evaluate(test_data, test_targets)\n",
        "\n",
        "print(test_targets)"
      ],
      "execution_count": 12,
      "outputs": [
        {
          "output_type": "stream",
          "text": [
            "4/4 [==============================] - 0s 3ms/step - loss: 19.0756 - mae: 2.6056\n",
            "[ 7.2 18.8 19.  27.  22.2 24.5 31.2 22.9 20.5 23.2 18.6 14.5 17.8 50.\n",
            " 20.8 24.3 24.2 19.8 19.1 22.7 12.  10.2 20.  18.5 20.9 23.  27.5 30.1\n",
            "  9.5 22.  21.2 14.1 33.1 23.4 20.1  7.4 15.4 23.8 20.1 24.5 33.  28.4\n",
            " 14.1 46.7 32.5 29.6 28.4 19.8 20.2 25.  35.4 20.3  9.7 14.5 34.9 26.6\n",
            "  7.2 50.  32.4 21.6 29.8 13.1 27.5 21.2 23.1 21.9 13.  23.2  8.1  5.6\n",
            " 21.7 29.6 19.6  7.  26.4 18.9 20.9 28.1 35.4 10.2 24.3 43.1 17.6 15.4\n",
            " 16.2 27.1 21.4 21.5 22.4 25.  16.6 18.6 22.  42.8 35.1 21.5 36.  21.9\n",
            " 24.1 50.  26.7 25. ]\n"
          ],
          "name": "stdout"
        }
      ]
    },
    {
      "cell_type": "code",
      "metadata": {
        "colab": {
          "base_uri": "https://localhost:8080/"
        },
        "id": "wsZWKXe6vOvD",
        "outputId": "33339f90-5fce-4485-e7fc-ec2684455ba6"
      },
      "source": [
        "print(test_data[0])\n",
        "\n",
        "samples_to_predict = np.array([test_data[20]])\n",
        "\n",
        "model.predict_proba(samples_to_predict)"
      ],
      "execution_count": 23,
      "outputs": [
        {
          "output_type": "stream",
          "text": [
            "[ 1.55369355 -0.48361547  1.0283258  -0.25683275  1.03838067  0.23545815\n",
            "  1.11048828 -0.93976936  1.67588577  1.5652875   0.78447637 -3.48459553\n",
            "  2.25092074]\n",
            "WARNING:tensorflow:Network returning invalid probability values. The last layer might not normalize predictions into probabilities (like softmax or sigmoid would).\n"
          ],
          "name": "stdout"
        },
        {
          "output_type": "stream",
          "text": [
            "/usr/local/lib/python3.7/dist-packages/keras/engine/sequential.py:425: UserWarning: `model.predict_proba()` is deprecated and will be removed after 2021-01-01. Please use `model.predict()` instead.\n",
            "  warnings.warn('`model.predict_proba()` is deprecated and '\n"
          ],
          "name": "stderr"
        },
        {
          "output_type": "execute_result",
          "data": {
            "text/plain": [
              "array([[11.544668]], dtype=float32)"
            ]
          },
          "metadata": {
            "tags": []
          },
          "execution_count": 23
        }
      ]
    }
  ]
}